{
  "nbformat": 4,
  "nbformat_minor": 0,
  "metadata": {
    "colab": {
      "provenance": [],
      "authorship_tag": "ABX9TyM6vPDXAP974x/xRx9hSA1K",
      "include_colab_link": true
    },
    "kernelspec": {
      "name": "python3",
      "display_name": "Python 3"
    },
    "language_info": {
      "name": "python"
    }
  },
  "cells": [
    {
      "cell_type": "markdown",
      "metadata": {
        "id": "view-in-github",
        "colab_type": "text"
      },
      "source": [
        "<a href=\"https://colab.research.google.com/github/aaaaaaaaaaaaaaiii/Lifecode1/blob/main/First_cde.ipynb\" target=\"_parent\"><img src=\"https://colab.research.google.com/assets/colab-badge.svg\" alt=\"Open In Colab\"/></a>"
      ]
    },
    {
      "cell_type": "markdown",
      "source": [
        "나의 첫번째 코드"
      ],
      "metadata": {
        "id": "uqyX3O1W3THn"
      }
    },
    {
      "cell_type": "code",
      "execution_count": 8,
      "metadata": {
        "colab": {
          "base_uri": "https://localhost:8080/"
        },
        "id": "eTNmhOTL0art",
        "outputId": "cc145e5c-7294-4dcd-f48c-9abe55db6e90"
      },
      "outputs": [
        {
          "output_type": "stream",
          "name": "stdout",
          "text": [
            "lee\n"
          ]
        }
      ],
      "source": [
        "name = \"lee\";\n",
        "print(name)"
      ]
    },
    {
      "cell_type": "markdown",
      "source": [
        "코딩 두번째, Hello World! 만들기"
      ],
      "metadata": {
        "id": "lRXYu_5-3EkQ"
      }
    },
    {
      "cell_type": "code",
      "source": [
        "name=\"Hello,World!\";\n",
        "print(name)\n"
      ],
      "metadata": {
        "colab": {
          "base_uri": "https://localhost:8080/"
        },
        "id": "MudlVwIT3Mtn",
        "outputId": "58610c06-8104-4be8-aa24-18818291d8cc"
      },
      "execution_count": 10,
      "outputs": [
        {
          "output_type": "stream",
          "name": "stdout",
          "text": [
            "Hello,World!\n"
          ]
        }
      ]
    }
  ]
}